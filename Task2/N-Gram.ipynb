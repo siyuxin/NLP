{
 "cells": [
  {
   "cell_type": "markdown",
   "metadata": {},
   "source": [
    "## N-Gram模型原理\n",
    "马尔科夫链的假设\n",
    "\n",
    "P(wi|w1,⋯,wi−1)=P(wi|wi−n+1,⋯,wi−1)"
   ]
  },
  {
   "cell_type": "markdown",
   "metadata": {},
   "source": [
    "当 n=1, 一个一元模型（unigram model)即为\n",
    "P(w1,w2,⋯,wm)=∏i=1mP(wi)\n",
    "\n",
    "当 n=2, 一个二元模型（bigram model)即为\n",
    "P(w1,w2,⋯,wm)=∏i=1mP(wi|wi−1)\n",
    "\n",
    "当 n=3, 一个三元模型（trigram model)即为\n",
    "P(w1,w2,⋯,wm)=∏i=1mP(wi|wi−2wi−1)"
   ]
  },
  {
   "cell_type": "markdown",
   "metadata": {},
   "source": [
    "对于unigram model而言，其中c(w1,..,wn) 表示 n-gram w1,..,wn 在训练语料中出现的次数，M 是语料库中的总字数（例如对于 yes no no no yes 而言，M=5）\n",
    "P(wi)=C(wi)M\n",
    "\n",
    "对于bigram model而言，\n",
    "P(wi|wi−1)=C(wi−1wi)C(wi−1)\n",
    "\n",
    "对于n-gram model而言，\n",
    "P(wi|wi−n−1,⋯,wi−1)=C(wi−n−1,⋯,wi)C(wi−n−1,⋯,wi−1)"
   ]
  },
  {
   "cell_type": "markdown",
   "metadata": {},
   "source": [
    "## 使用N-Gram模型时的数据平滑算法"
   ]
  },
  {
   "cell_type": "markdown",
   "metadata": {},
   "source": [
    "1. 为什么要采取平滑算法\n",
    "        有研究人员用150万词的训练语料来训练 trigram 模型，然后用同样来源的测试语料来做验证，结果发现23%的 trigram 没有在训练语料中出现过。这其实就意味着上一节我们所计算的那些概率有空为 0，这就导致了数据稀疏的可能性。对语言而言，由于数据稀疏的存在，极大似然法不是一种很好的参数估计办法。       "
   ]
  },
  {
   "cell_type": "markdown",
   "metadata": {},
   "source": [
    "2. 解决方案与平滑算法\n",
    "        解决办法，我们称之为“平滑技术”（Smoothing）或者 “减值” （Discounting）。其主要策略是把在训练样本中出现过的事件的概率适当减小，然后把减小得到的概率密度分配给训练语料中没有出现过的事件。实际中平滑算法有很多种，例如：\n",
    "　　▸ Laplacian (add-one) smoothing\n",
    "　　▸ Add-k smoothing\n",
    "　　▸ Jelinek-Mercer interpolation\n",
    "　　▸ Katz backoff\n",
    "　　▸ Absolute discounting\n",
    "　　▸ Kneser-Ney\n",
    "\n",
    "  \n"
   ]
  },
  {
   "cell_type": "markdown",
   "metadata": {},
   "source": [
    "## N-Gram demo"
   ]
  },
  {
   "cell_type": "code",
   "execution_count": 1,
   "metadata": {},
   "outputs": [
    {
     "name": "stderr",
     "output_type": "stream",
     "text": [
      "Building prefix dict from the default dictionary ...\n",
      "Loading model from cache C:\\Users\\SYX\\AppData\\Local\\Temp\\jieba.cache\n",
      "Loading model cost 1.981 seconds.\n",
      "Prefix dict has been built succesfully.\n"
     ]
    }
   ],
   "source": [
    "from sklearn.feature_extraction.text import CountVectorizer\n",
    "import pandas as pd\n",
    "import jieba\n",
    "data = [\"他用报话机向上级呼喊：“为了祖国，为了胜利，向我开炮！向我开炮！\",\n",
    "        \"记者：你怎么会说出那番话？\",\n",
    "        \"韦昌进：我只是觉得，对准我自己打，才有可能把上了我哨位的这些敌人打死，或者打下去。\"]\n",
    "\n",
    "data = [\" \".join(jieba.lcut(e)) for e in data] # 分词，并用\" \"连接\n",
    "\n",
    "vec = CountVectorizer(min_df=1, ngram_range=(1,2)) \n",
    "# ngram_range=(1,1) 表示 unigram, ngram_range=(2,2) 表示 bigram, ngram_range=(3,3) 表示 thirgram"
   ]
  },
  {
   "cell_type": "code",
   "execution_count": 2,
   "metadata": {},
   "outputs": [],
   "source": [
    "X = vec.fit_transform(data) # transform text to metrix"
   ]
  },
  {
   "cell_type": "code",
   "execution_count": 3,
   "metadata": {},
   "outputs": [
    {
     "data": {
      "text/plain": [
       "['上级',\n",
       " '上级 呼喊',\n",
       " '下去',\n",
       " '为了',\n",
       " '为了 祖国',\n",
       " '为了 胜利',\n",
       " '只是',\n",
       " '只是 觉得',\n",
       " '可能',\n",
       " '可能 哨位',\n",
       " '呼喊',\n",
       " '呼喊 为了',\n",
       " '哨位',\n",
       " '哨位 这些',\n",
       " '对准',\n",
       " '对准 自己',\n",
       " '开炮',\n",
       " '开炮 开炮',\n",
       " '怎么',\n",
       " '怎么 说出',\n",
       " '或者',\n",
       " '或者 下去',\n",
       " '打死',\n",
       " '打死 或者',\n",
       " '报话机',\n",
       " '报话机 上级',\n",
       " '敌人',\n",
       " '敌人 打死',\n",
       " '番话',\n",
       " '祖国',\n",
       " '祖国 为了',\n",
       " '胜利',\n",
       " '胜利 开炮',\n",
       " '自己',\n",
       " '自己 可能',\n",
       " '觉得',\n",
       " '觉得 对准',\n",
       " '记者',\n",
       " '记者 怎么',\n",
       " '说出',\n",
       " '说出 番话',\n",
       " '这些',\n",
       " '这些 敌人',\n",
       " '韦昌进',\n",
       " '韦昌进 只是']"
      ]
     },
     "execution_count": 3,
     "metadata": {},
     "output_type": "execute_result"
    }
   ],
   "source": [
    "vec.get_feature_names() # get features"
   ]
  },
  {
   "cell_type": "code",
   "execution_count": 4,
   "metadata": {},
   "outputs": [
    {
     "data": {
      "text/plain": [
       "array([[1, 1, 0, 2, 1, 1, 0, 0, 0, 0, 1, 1, 0, 0, 0, 0, 2, 1, 0, 0, 0, 0,\n",
       "        0, 0, 1, 1, 0, 0, 0, 1, 1, 1, 1, 0, 0, 0, 0, 0, 0, 0, 0, 0, 0, 0,\n",
       "        0],\n",
       "       [0, 0, 0, 0, 0, 0, 0, 0, 0, 0, 0, 0, 0, 0, 0, 0, 0, 0, 1, 1, 0, 0,\n",
       "        0, 0, 0, 0, 0, 0, 1, 0, 0, 0, 0, 0, 0, 0, 0, 1, 1, 1, 1, 0, 0, 0,\n",
       "        0],\n",
       "       [0, 0, 1, 0, 0, 0, 1, 1, 1, 1, 0, 0, 1, 1, 1, 1, 0, 0, 0, 0, 1, 1,\n",
       "        1, 1, 0, 0, 1, 1, 0, 0, 0, 0, 0, 1, 1, 1, 1, 0, 0, 0, 0, 1, 1, 1,\n",
       "        1]], dtype=int64)"
      ]
     },
     "execution_count": 4,
     "metadata": {},
     "output_type": "execute_result"
    }
   ],
   "source": [
    "X.toarray()"
   ]
  },
  {
   "cell_type": "code",
   "execution_count": 5,
   "metadata": {},
   "outputs": [
    {
     "data": {
      "text/html": [
       "<div>\n",
       "<style scoped>\n",
       "    .dataframe tbody tr th:only-of-type {\n",
       "        vertical-align: middle;\n",
       "    }\n",
       "\n",
       "    .dataframe tbody tr th {\n",
       "        vertical-align: top;\n",
       "    }\n",
       "\n",
       "    .dataframe thead th {\n",
       "        text-align: right;\n",
       "    }\n",
       "</style>\n",
       "<table border=\"1\" class=\"dataframe\">\n",
       "  <thead>\n",
       "    <tr style=\"text-align: right;\">\n",
       "      <th></th>\n",
       "      <th>上级</th>\n",
       "      <th>上级 呼喊</th>\n",
       "      <th>下去</th>\n",
       "      <th>为了</th>\n",
       "      <th>为了 祖国</th>\n",
       "      <th>为了 胜利</th>\n",
       "      <th>只是</th>\n",
       "      <th>只是 觉得</th>\n",
       "      <th>可能</th>\n",
       "      <th>可能 哨位</th>\n",
       "      <th>...</th>\n",
       "      <th>觉得</th>\n",
       "      <th>觉得 对准</th>\n",
       "      <th>记者</th>\n",
       "      <th>记者 怎么</th>\n",
       "      <th>说出</th>\n",
       "      <th>说出 番话</th>\n",
       "      <th>这些</th>\n",
       "      <th>这些 敌人</th>\n",
       "      <th>韦昌进</th>\n",
       "      <th>韦昌进 只是</th>\n",
       "    </tr>\n",
       "  </thead>\n",
       "  <tbody>\n",
       "    <tr>\n",
       "      <th>0</th>\n",
       "      <td>1</td>\n",
       "      <td>1</td>\n",
       "      <td>0</td>\n",
       "      <td>2</td>\n",
       "      <td>1</td>\n",
       "      <td>1</td>\n",
       "      <td>0</td>\n",
       "      <td>0</td>\n",
       "      <td>0</td>\n",
       "      <td>0</td>\n",
       "      <td>...</td>\n",
       "      <td>0</td>\n",
       "      <td>0</td>\n",
       "      <td>0</td>\n",
       "      <td>0</td>\n",
       "      <td>0</td>\n",
       "      <td>0</td>\n",
       "      <td>0</td>\n",
       "      <td>0</td>\n",
       "      <td>0</td>\n",
       "      <td>0</td>\n",
       "    </tr>\n",
       "    <tr>\n",
       "      <th>1</th>\n",
       "      <td>0</td>\n",
       "      <td>0</td>\n",
       "      <td>0</td>\n",
       "      <td>0</td>\n",
       "      <td>0</td>\n",
       "      <td>0</td>\n",
       "      <td>0</td>\n",
       "      <td>0</td>\n",
       "      <td>0</td>\n",
       "      <td>0</td>\n",
       "      <td>...</td>\n",
       "      <td>0</td>\n",
       "      <td>0</td>\n",
       "      <td>1</td>\n",
       "      <td>1</td>\n",
       "      <td>1</td>\n",
       "      <td>1</td>\n",
       "      <td>0</td>\n",
       "      <td>0</td>\n",
       "      <td>0</td>\n",
       "      <td>0</td>\n",
       "    </tr>\n",
       "    <tr>\n",
       "      <th>2</th>\n",
       "      <td>0</td>\n",
       "      <td>0</td>\n",
       "      <td>1</td>\n",
       "      <td>0</td>\n",
       "      <td>0</td>\n",
       "      <td>0</td>\n",
       "      <td>1</td>\n",
       "      <td>1</td>\n",
       "      <td>1</td>\n",
       "      <td>1</td>\n",
       "      <td>...</td>\n",
       "      <td>1</td>\n",
       "      <td>1</td>\n",
       "      <td>0</td>\n",
       "      <td>0</td>\n",
       "      <td>0</td>\n",
       "      <td>0</td>\n",
       "      <td>1</td>\n",
       "      <td>1</td>\n",
       "      <td>1</td>\n",
       "      <td>1</td>\n",
       "    </tr>\n",
       "  </tbody>\n",
       "</table>\n",
       "<p>3 rows × 45 columns</p>\n",
       "</div>"
      ],
      "text/plain": [
       "   上级  上级 呼喊  下去  为了  为了 祖国  为了 胜利  只是  只是 觉得  可能  可能 哨位  ...  觉得  觉得 对准  记者  \\\n",
       "0   1      1   0   2      1      1   0      0   0      0  ...   0      0   0   \n",
       "1   0      0   0   0      0      0   0      0   0      0  ...   0      0   1   \n",
       "2   0      0   1   0      0      0   1      1   1      1  ...   1      1   0   \n",
       "\n",
       "   记者 怎么  说出  说出 番话  这些  这些 敌人  韦昌进  韦昌进 只是  \n",
       "0      0   0      0   0      0    0       0  \n",
       "1      1   1      1   0      0    0       0  \n",
       "2      0   0      0   1      1    1       1  \n",
       "\n",
       "[3 rows x 45 columns]"
      ]
     },
     "execution_count": 5,
     "metadata": {},
     "output_type": "execute_result"
    }
   ],
   "source": [
    "df = pd.DataFrame(X.toarray(), columns=vec.get_feature_names()) # to DataFrame\n",
    "df.head()"
   ]
  },
  {
   "cell_type": "code",
   "execution_count": null,
   "metadata": {},
   "outputs": [],
   "source": []
  }
 ],
 "metadata": {
  "kernelspec": {
   "display_name": "Tensorflow",
   "language": "python",
   "name": "pycharm-3464d5c1"
  },
  "language_info": {
   "codemirror_mode": {
    "name": "ipython",
    "version": 3
   },
   "file_extension": ".py",
   "mimetype": "text/x-python",
   "name": "python",
   "nbconvert_exporter": "python",
   "pygments_lexer": "ipython3",
   "version": "3.6.7"
  }
 },
 "nbformat": 4,
 "nbformat_minor": 2
}
