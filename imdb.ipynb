{
 "cells": [
  {
   "cell_type": "code",
   "execution_count": 1,
   "metadata": {},
   "outputs": [
    {
     "name": "stdout",
     "output_type": "stream",
     "text": [
      "1.13.1\n"
     ]
    }
   ],
   "source": [
    "import tensorflow as tf\n",
    "from tensorflow import keras\n",
    "\n",
    "import numpy as np\n",
    "\n",
    "print(tf.__version__)\n"
   ]
  },
  {
   "cell_type": "markdown",
   "metadata": {},
   "source": [
    "## 数据导入 \n",
    "IMDB数据集"
   ]
  },
  {
   "cell_type": "code",
   "execution_count": 2,
   "metadata": {},
   "outputs": [],
   "source": [
    "imdb = keras.datasets.imdb\n",
    "\n",
    "(train_data, train_labels), (test_data, test_labels) = imdb.load_data(num_words=10000)\n"
   ]
  },
  {
   "cell_type": "code",
   "execution_count": 3,
   "metadata": {},
   "outputs": [
    {
     "name": "stdout",
     "output_type": "stream",
     "text": [
      "Training entries: 25000, labels: 25000\n"
     ]
    }
   ],
   "source": [
    "print(\"Training entries: {}, labels: {}\".format(len(train_data), len(train_labels)))\n"
   ]
  },
  {
   "cell_type": "code",
   "execution_count": 4,
   "metadata": {},
   "outputs": [
    {
     "name": "stdout",
     "output_type": "stream",
     "text": [
      "[1, 14, 22, 16, 43, 530, 973, 1622, 1385, 65, 458, 4468, 66, 3941, 4, 173, 36, 256, 5, 25, 100, 43, 838, 112, 50, 670, 2, 9, 35, 480, 284, 5, 150, 4, 172, 112, 167, 2, 336, 385, 39, 4, 172, 4536, 1111, 17, 546, 38, 13, 447, 4, 192, 50, 16, 6, 147, 2025, 19, 14, 22, 4, 1920, 4613, 469, 4, 22, 71, 87, 12, 16, 43, 530, 38, 76, 15, 13, 1247, 4, 22, 17, 515, 17, 12, 16, 626, 18, 2, 5, 62, 386, 12, 8, 316, 8, 106, 5, 4, 2223, 5244, 16, 480, 66, 3785, 33, 4, 130, 12, 16, 38, 619, 5, 25, 124, 51, 36, 135, 48, 25, 1415, 33, 6, 22, 12, 215, 28, 77, 52, 5, 14, 407, 16, 82, 2, 8, 4, 107, 117, 5952, 15, 256, 4, 2, 7, 3766, 5, 723, 36, 71, 43, 530, 476, 26, 400, 317, 46, 7, 4, 2, 1029, 13, 104, 88, 4, 381, 15, 297, 98, 32, 2071, 56, 26, 141, 6, 194, 7486, 18, 4, 226, 22, 21, 134, 476, 26, 480, 5, 144, 30, 5535, 18, 51, 36, 28, 224, 92, 25, 104, 4, 226, 65, 16, 38, 1334, 88, 12, 16, 283, 5, 16, 4472, 113, 103, 32, 15, 16, 5345, 19, 178, 32]\n"
     ]
    }
   ],
   "source": [
    "print(train_data[0])\n"
   ]
  },
  {
   "cell_type": "code",
   "execution_count": 5,
   "metadata": {},
   "outputs": [
    {
     "data": {
      "text/plain": [
       "(218, 189)"
      ]
     },
     "execution_count": 5,
     "metadata": {},
     "output_type": "execute_result"
    }
   ],
   "source": [
    "len(train_data[0]), len(train_data[1])\n"
   ]
  },
  {
   "cell_type": "markdown",
   "metadata": {},
   "source": [
    "\n",
    "## 将整数转化回字词"
   ]
  },
  {
   "cell_type": "code",
   "execution_count": 6,
   "metadata": {},
   "outputs": [],
   "source": [
    "# A dictionary mapping words to an integer index\n",
    "word_index = imdb.get_word_index()\n",
    "\n",
    "# The first indices are reserved\n",
    "word_index = {k:(v+3) for k,v in word_index.items()}\n",
    "word_index[\"<PAD>\"] = 0\n",
    "word_index[\"<START>\"] = 1\n",
    "word_index[\"<UNK>\"] = 2  # unknown\n",
    "word_index[\"<UNUSED>\"] = 3\n",
    "\n",
    "reverse_word_index = dict([(value, key) for (key, value) in word_index.items()])\n",
    "\n",
    "def decode_review(text):\n",
    "    return ' '.join([reverse_word_index.get(i, '?') for i in text])\n"
   ]
  },
  {
   "cell_type": "code",
   "execution_count": 9,
   "metadata": {},
   "outputs": [
    {
     "data": {
      "text/plain": [
       "\"<START> this film was just brilliant casting location scenery story direction everyone's really suited the part they played and you could just imagine being there robert <UNK> is an amazing actor and now the same being director <UNK> father came from the same scottish island as myself so i loved the fact there was a real connection with this film the witty remarks throughout the film were great it was just brilliant so much that i bought the film as soon as it was released for <UNK> and would recommend it to everyone to watch and the fly fishing was amazing really cried at the end it was so sad and you know what they say if you cry at a film it must have been good and this definitely was also <UNK> to the two little boy's that played the <UNK> of norman and paul they were just brilliant children are often left out of the <UNK> list i think because the stars that play them all grown up are such a big profile for the whole film but these children are amazing and should be praised for what they have done don't you think the whole story was so lovely because it was true and was someone's life after all that was shared with us all\""
      ]
     },
     "execution_count": 9,
     "metadata": {},
     "output_type": "execute_result"
    }
   ],
   "source": [
    "decode_review(train_data[0])\n"
   ]
  },
  {
   "cell_type": "markdown",
   "metadata": {},
   "source": [
    "## 准备数据 \n",
    "影评（整数数组）必须转换为张量，然后才能馈送到神经网络中。\n",
    "\n",
    "    采取填充数组，使它们都具有相同的长度，然后创建一个形状为 max_length * num_reviews 的整数张量。\n",
    "    使用一个能够处理这种形状的嵌入层作为网络中的第一层。\n",
    "    由于影评的长度必须相同，使用 pad_sequences 函数将长度标准化："
   ]
  },
  {
   "cell_type": "code",
   "execution_count": 10,
   "metadata": {},
   "outputs": [],
   "source": [
    "train_data = keras.preprocessing.sequence.pad_sequences(train_data,\n",
    "                                                        value=word_index[\"<PAD>\"],\n",
    "                                                        padding='post',\n",
    "                                                        maxlen=256)\n",
    "\n",
    "test_data = keras.preprocessing.sequence.pad_sequences(test_data,\n",
    "                                                       value=word_index[\"<PAD>\"],\n",
    "                                                       padding='post',\n",
    "                                                       maxlen=256)\n"
   ]
  },
  {
   "cell_type": "code",
   "execution_count": 11,
   "metadata": {},
   "outputs": [
    {
     "data": {
      "text/plain": [
       "(256, 256)"
      ]
     },
     "execution_count": 11,
     "metadata": {},
     "output_type": "execute_result"
    }
   ],
   "source": [
    "len(train_data[0]),len(train_data[1])"
   ]
  },
  {
   "cell_type": "code",
   "execution_count": 12,
   "metadata": {},
   "outputs": [
    {
     "name": "stdout",
     "output_type": "stream",
     "text": [
      "[   1   14   22   16   43  530  973 1622 1385   65  458 4468   66 3941\n",
      "    4  173   36  256    5   25  100   43  838  112   50  670    2    9\n",
      "   35  480  284    5  150    4  172  112  167    2  336  385   39    4\n",
      "  172 4536 1111   17  546   38   13  447    4  192   50   16    6  147\n",
      " 2025   19   14   22    4 1920 4613  469    4   22   71   87   12   16\n",
      "   43  530   38   76   15   13 1247    4   22   17  515   17   12   16\n",
      "  626   18    2    5   62  386   12    8  316    8  106    5    4 2223\n",
      " 5244   16  480   66 3785   33    4  130   12   16   38  619    5   25\n",
      "  124   51   36  135   48   25 1415   33    6   22   12  215   28   77\n",
      "   52    5   14  407   16   82    2    8    4  107  117 5952   15  256\n",
      "    4    2    7 3766    5  723   36   71   43  530  476   26  400  317\n",
      "   46    7    4    2 1029   13  104   88    4  381   15  297   98   32\n",
      " 2071   56   26  141    6  194 7486   18    4  226   22   21  134  476\n",
      "   26  480    5  144   30 5535   18   51   36   28  224   92   25  104\n",
      "    4  226   65   16   38 1334   88   12   16  283    5   16 4472  113\n",
      "  103   32   15   16 5345   19  178   32    0    0    0    0    0    0\n",
      "    0    0    0    0    0    0    0    0    0    0    0    0    0    0\n",
      "    0    0    0    0    0    0    0    0    0    0    0    0    0    0\n",
      "    0    0    0    0]\n"
     ]
    }
   ],
   "source": [
    "print(train_data[0])"
   ]
  },
  {
   "cell_type": "markdown",
   "metadata": {},
   "source": [
    "## 构建model\n",
    "    Embedding层 （vocab_size，16）--> (batch, sequence, embedding)\n",
    "    GlobalAveragePooling1D层 对序列维度求平均值，针对每个样本返回一个长度固定的输出向量\n",
    "    Dense1 全连接层 16个节点 Relu\n",
    "    Dense2 sigmoid 16 --> 1"
   ]
  },
  {
   "cell_type": "code",
   "execution_count": 13,
   "metadata": {},
   "outputs": [
    {
     "name": "stdout",
     "output_type": "stream",
     "text": [
      "WARNING:tensorflow:From C:\\ProgramData\\Anaconda3\\lib\\site-packages\\tensorflow\\python\\ops\\resource_variable_ops.py:435: colocate_with (from tensorflow.python.framework.ops) is deprecated and will be removed in a future version.\n",
      "Instructions for updating:\n",
      "Colocations handled automatically by placer.\n",
      "_________________________________________________________________\n",
      "Layer (type)                 Output Shape              Param #   \n",
      "=================================================================\n",
      "embedding (Embedding)        (None, None, 16)          160000    \n",
      "_________________________________________________________________\n",
      "global_average_pooling1d (Gl (None, 16)                0         \n",
      "_________________________________________________________________\n",
      "dense (Dense)                (None, 16)                272       \n",
      "_________________________________________________________________\n",
      "dense_1 (Dense)              (None, 1)                 17        \n",
      "=================================================================\n",
      "Total params: 160,289\n",
      "Trainable params: 160,289\n",
      "Non-trainable params: 0\n",
      "_________________________________________________________________\n"
     ]
    }
   ],
   "source": [
    "# input shape is the vocabulary count used for the movie reviews (10,000 words)\n",
    "vocab_size = 10000\n",
    "\n",
    "model = keras.Sequential()\n",
    "model.add(keras.layers.Embedding(vocab_size, 16))\n",
    "model.add(keras.layers.GlobalAveragePooling1D())\n",
    "model.add(keras.layers.Dense(16, activation=tf.nn.relu))\n",
    "model.add(keras.layers.Dense(1, activation=tf.nn.sigmoid))\n",
    "\n",
    "model.summary()\n"
   ]
  },
  {
   "cell_type": "markdown",
   "metadata": {},
   "source": [
    "## 损失函数和优化器\n",
    "Adam\n",
    "\n",
    "binary_crossentropy\n",
    "\n",
    "accuracy\n",
    "\n",
    "\n"
   ]
  },
  {
   "cell_type": "code",
   "execution_count": 14,
   "metadata": {},
   "outputs": [],
   "source": [
    "model.compile(optimizer=tf.train.AdamOptimizer(),\n",
    "              loss='binary_crossentropy',\n",
    "              metrics=['accuracy'])\n"
   ]
  },
  {
   "cell_type": "markdown",
   "metadata": {},
   "source": [
    "## 创建验证集\n",
    "从原始训练数据中分离出 10000 个样本，创建一个验证集。"
   ]
  },
  {
   "cell_type": "code",
   "execution_count": 15,
   "metadata": {},
   "outputs": [],
   "source": [
    "x_val = train_data[:10000]\n",
    "partial_x_train = train_data[10000:]\n",
    "\n",
    "y_val = train_labels[:10000]\n",
    "partial_y_train = train_labels[10000:]\n"
   ]
  },
  {
   "cell_type": "markdown",
   "metadata": {},
   "source": [
    "## 训练模型 \n",
    "epochs=40,\n",
    "\n",
    "batch_size=512"
   ]
  },
  {
   "cell_type": "code",
   "execution_count": 23,
   "metadata": {},
   "outputs": [
    {
     "name": "stdout",
     "output_type": "stream",
     "text": [
      "Train on 15000 samples, validate on 10000 samples\n",
      "Epoch 1/40\n",
      "15000/15000 [==============================] - 3s 201us/sample - loss: 0.0927 - acc: 0.9762 - val_loss: 0.3109 - val_acc: 0.8827\n",
      "Epoch 2/40\n",
      "15000/15000 [==============================] - 1s 74us/sample - loss: 0.0889 - acc: 0.9771 - val_loss: 0.3143 - val_acc: 0.8825\n",
      "Epoch 3/40\n",
      "15000/15000 [==============================] - 1s 76us/sample - loss: 0.0859 - acc: 0.9781 - val_loss: 0.3175 - val_acc: 0.8822\n",
      "Epoch 4/40\n",
      "15000/15000 [==============================] - 1s 82us/sample - loss: 0.0828 - acc: 0.9804 - val_loss: 0.3211 - val_acc: 0.8815\n",
      "Epoch 5/40\n",
      "15000/15000 [==============================] - 1s 73us/sample - loss: 0.0800 - acc: 0.9809 - val_loss: 0.3252 - val_acc: 0.8810\n",
      "Epoch 6/40\n",
      "15000/15000 [==============================] - 1s 75us/sample - loss: 0.0768 - acc: 0.9818 - val_loss: 0.3309 - val_acc: 0.8788\n",
      "Epoch 7/40\n",
      "15000/15000 [==============================] - 1s 74us/sample - loss: 0.0743 - acc: 0.9829 - val_loss: 0.3328 - val_acc: 0.8798\n",
      "Epoch 8/40\n",
      "15000/15000 [==============================] - 1s 74us/sample - loss: 0.0713 - acc: 0.9838 - val_loss: 0.3361 - val_acc: 0.8806\n",
      "Epoch 9/40\n",
      "15000/15000 [==============================] - 1s 78us/sample - loss: 0.0689 - acc: 0.9854 - val_loss: 0.3405 - val_acc: 0.8792\n",
      "Epoch 10/40\n",
      "15000/15000 [==============================] - 1s 75us/sample - loss: 0.0662 - acc: 0.9858 - val_loss: 0.3445 - val_acc: 0.8794\n",
      "Epoch 11/40\n",
      "15000/15000 [==============================] - 1s 76us/sample - loss: 0.0639 - acc: 0.9865 - val_loss: 0.3488 - val_acc: 0.8783\n",
      "Epoch 12/40\n",
      "15000/15000 [==============================] - 1s 76us/sample - loss: 0.0618 - acc: 0.9869 - val_loss: 0.3576 - val_acc: 0.8753\n",
      "Epoch 13/40\n",
      "15000/15000 [==============================] - 1s 75us/sample - loss: 0.0599 - acc: 0.9876 - val_loss: 0.3581 - val_acc: 0.8773\n",
      "Epoch 14/40\n",
      "15000/15000 [==============================] - 1s 77us/sample - loss: 0.0572 - acc: 0.9887 - val_loss: 0.3619 - val_acc: 0.8777\n",
      "Epoch 15/40\n",
      "15000/15000 [==============================] - 1s 76us/sample - loss: 0.0553 - acc: 0.9894 - val_loss: 0.3668 - val_acc: 0.8771\n",
      "Epoch 16/40\n",
      "15000/15000 [==============================] - 1s 77us/sample - loss: 0.0533 - acc: 0.9903 - val_loss: 0.3735 - val_acc: 0.8749\n",
      "Epoch 17/40\n",
      "15000/15000 [==============================] - 1s 79us/sample - loss: 0.0512 - acc: 0.9908 - val_loss: 0.3757 - val_acc: 0.8771\n",
      "Epoch 18/40\n",
      "15000/15000 [==============================] - 1s 75us/sample - loss: 0.0498 - acc: 0.9917 - val_loss: 0.3843 - val_acc: 0.8743\n",
      "Epoch 19/40\n",
      "15000/15000 [==============================] - 1s 74us/sample - loss: 0.0478 - acc: 0.9922 - val_loss: 0.3847 - val_acc: 0.8766\n",
      "Epoch 20/40\n",
      "15000/15000 [==============================] - 1s 76us/sample - loss: 0.0460 - acc: 0.9925 - val_loss: 0.3910 - val_acc: 0.8760\n",
      "Epoch 21/40\n",
      "15000/15000 [==============================] - 1s 76us/sample - loss: 0.0444 - acc: 0.9927 - val_loss: 0.3953 - val_acc: 0.8770\n",
      "Epoch 22/40\n",
      "15000/15000 [==============================] - 1s 76us/sample - loss: 0.0426 - acc: 0.9932 - val_loss: 0.3993 - val_acc: 0.8754\n",
      "Epoch 23/40\n",
      "15000/15000 [==============================] - 1s 78us/sample - loss: 0.0410 - acc: 0.9936 - val_loss: 0.4058 - val_acc: 0.8755\n",
      "Epoch 24/40\n",
      "15000/15000 [==============================] - 1s 75us/sample - loss: 0.0395 - acc: 0.9943 - val_loss: 0.4100 - val_acc: 0.8750\n",
      "Epoch 25/40\n",
      "15000/15000 [==============================] - 1s 75us/sample - loss: 0.0381 - acc: 0.9938 - val_loss: 0.4144 - val_acc: 0.8742\n",
      "Epoch 26/40\n",
      "15000/15000 [==============================] - 1s 73us/sample - loss: 0.0369 - acc: 0.9941 - val_loss: 0.4197 - val_acc: 0.8738\n",
      "Epoch 27/40\n",
      "15000/15000 [==============================] - 1s 72us/sample - loss: 0.0350 - acc: 0.9949 - val_loss: 0.4250 - val_acc: 0.8741\n",
      "Epoch 28/40\n",
      "15000/15000 [==============================] - 1s 76us/sample - loss: 0.0337 - acc: 0.9952 - val_loss: 0.4307 - val_acc: 0.8726\n",
      "Epoch 29/40\n",
      "15000/15000 [==============================] - 1s 89us/sample - loss: 0.0327 - acc: 0.9955 - val_loss: 0.4348 - val_acc: 0.8727\n",
      "Epoch 30/40\n",
      "15000/15000 [==============================] - 1s 80us/sample - loss: 0.0317 - acc: 0.9956 - val_loss: 0.4402 - val_acc: 0.8725\n",
      "Epoch 31/40\n",
      "15000/15000 [==============================] - 1s 75us/sample - loss: 0.0301 - acc: 0.9964 - val_loss: 0.4488 - val_acc: 0.8700\n",
      "Epoch 32/40\n",
      "15000/15000 [==============================] - 1s 83us/sample - loss: 0.0291 - acc: 0.9964 - val_loss: 0.4514 - val_acc: 0.8708\n",
      "Epoch 33/40\n",
      "15000/15000 [==============================] - 1s 98us/sample - loss: 0.0279 - acc: 0.9965 - val_loss: 0.4559 - val_acc: 0.8710\n",
      "Epoch 34/40\n",
      "15000/15000 [==============================] - 1s 86us/sample - loss: 0.0267 - acc: 0.9971 - val_loss: 0.4620 - val_acc: 0.8697\n",
      "Epoch 35/40\n",
      "15000/15000 [==============================] - 1s 77us/sample - loss: 0.0256 - acc: 0.9973 - val_loss: 0.4675 - val_acc: 0.8695\n",
      "Epoch 36/40\n",
      "15000/15000 [==============================] - 1s 77us/sample - loss: 0.0247 - acc: 0.9975 - val_loss: 0.4721 - val_acc: 0.8690\n",
      "Epoch 37/40\n",
      "15000/15000 [==============================] - 1s 79us/sample - loss: 0.0236 - acc: 0.9975 - val_loss: 0.4804 - val_acc: 0.8681\n",
      "Epoch 38/40\n",
      "15000/15000 [==============================] - 1s 75us/sample - loss: 0.0228 - acc: 0.9973 - val_loss: 0.4822 - val_acc: 0.8688\n",
      "Epoch 39/40\n",
      "15000/15000 [==============================] - 1s 71us/sample - loss: 0.0219 - acc: 0.9979 - val_loss: 0.4880 - val_acc: 0.8674\n",
      "Epoch 40/40\n",
      "15000/15000 [==============================] - 1s 74us/sample - loss: 0.0210 - acc: 0.9983 - val_loss: 0.4952 - val_acc: 0.8668\n"
     ]
    }
   ],
   "source": [
    "history = model.fit(partial_x_train,\n",
    "                    partial_y_train,\n",
    "                    epochs=40,\n",
    "                    batch_size=512,\n",
    "                    validation_data=(x_val, y_val),\n",
    "                    verbose=1)\n"
   ]
  },
  {
   "cell_type": "markdown",
   "metadata": {},
   "source": [
    "## 评估模型\n",
    "模型会返回两个值：损失（表示误差的数字，越低越好）和准确率。"
   ]
  },
  {
   "cell_type": "code",
   "execution_count": 17,
   "metadata": {},
   "outputs": [
    {
     "name": "stdout",
     "output_type": "stream",
     "text": [
      "25000/25000 [==============================] - 1s 34us/sample - loss: 0.3285 - acc: 0.8725\n",
      "[0.32851289372444153, 0.87252]\n"
     ]
    }
   ],
   "source": [
    "results = model.evaluate(test_data, test_labels)\n",
    "\n",
    "print(results)\n"
   ]
  },
  {
   "cell_type": "markdown",
   "metadata": {},
   "source": [
    "## 创建准确率和损失随时间变化的图\n",
    "model.fit() 返回一个 History 对象，该对象包含一个字典，其中包括训练期间发生的所有情况"
   ]
  },
  {
   "cell_type": "code",
   "execution_count": 18,
   "metadata": {},
   "outputs": [
    {
     "data": {
      "text/plain": [
       "dict_keys(['loss', 'acc', 'val_loss', 'val_acc'])"
      ]
     },
     "execution_count": 18,
     "metadata": {},
     "output_type": "execute_result"
    }
   ],
   "source": [
    "history_dict = history.history\n",
    "history_dict.keys()\n"
   ]
  },
  {
   "cell_type": "markdown",
   "metadata": {},
   "source": [
    "一共有 4 个条目：每个条目对应训练和验证期间的一个受监控指标。我们可以使用这些指标绘制训练损失与验证损失图表以进行对比，并绘制训练准确率与验证准确率图表："
   ]
  },
  {
   "cell_type": "code",
   "execution_count": 20,
   "metadata": {},
   "outputs": [
    {
     "data": {
      "image/png": "[encoded data removed]",
      "text/plain": [
       "<Figure size 432x288 with 1 Axes>"
      ]
     },
     "metadata": {
      "needs_background": "light"
     },
     "output_type": "display_data"
    }
   ],
   "source": [
    "import matplotlib.pyplot as plt\n",
    "%matplotlib inline\n",
    "acc = history.history['acc']\n",
    "val_acc = history.history['val_acc']\n",
    "loss = history.history['loss']\n",
    "val_loss = history.history['val_loss']\n",
    "\n",
    "epochs = range(1, len(acc) + 1)\n",
    "\n",
    "\n",
    "plt.plot(epochs, loss, 'b', label='Training loss')\n",
    "\n",
    "plt.plot(epochs, val_loss, 'red', label='Validation loss')\n",
    "plt.title('Training and validation loss')\n",
    "plt.xlabel('Epochs')\n",
    "plt.ylabel('Loss')\n",
    "plt.legend()\n",
    "\n",
    "plt.show()\n"
   ]
  },
  {
   "cell_type": "code",
   "execution_count": 22,
   "metadata": {},
   "outputs": [
    {
     "data": {
      "image/png": "[encoded data removed]",
      "text/plain": [
       "<Figure size 432x288 with 1 Axes>"
      ]
     },
     "metadata": {
      "needs_background": "light"
     },
     "output_type": "display_data"
    }
   ],
   "source": [
    "plt.clf()   # clear figure\n",
    "acc_values = history_dict['acc']\n",
    "val_acc_values = history_dict['val_acc']\n",
    "\n",
    "plt.plot(epochs, acc, 'red', label='Training acc')\n",
    "plt.plot(epochs, val_acc, 'b', label='Validation acc')\n",
    "plt.title('Training and validation accuracy')\n",
    "plt.xlabel('Epochs')\n",
    "plt.ylabel('Accuracy')\n",
    "plt.legend()\n",
    "\n",
    "plt.show()\n"
   ]
  },
  {
   "cell_type": "markdown",
   "metadata": {},
   "source": [
    "大概20多轮  测试集acc不在提高 训练集还在提高 出现过拟合 可以提前停止 \n"
   ]
  },
  {
   "cell_type": "code",
   "execution_count": null,
   "metadata": {},
   "outputs": [],
   "source": []
  }
 ],
 "metadata": {
  "kernelspec": {
   "display_name": "Python 3",
   "language": "python",
   "name": "python3"
  },
  "language_info": {
   "codemirror_mode": {
    "name": "ipython",
    "version": 3
   },
   "file_extension": ".py",
   "mimetype": "text/x-python",
   "name": "python",
   "nbconvert_exporter": "python",
   "pygments_lexer": "ipython3",
   "version": "3.7.3"
  },
  "pycharm": {
   "stem_cell": {
    "cell_type": "raw",
    "metadata": {
     "collapsed": false
    },
    "source": []
   }
  }
 },
 "nbformat": 4,
 "nbformat_minor": 1
}
